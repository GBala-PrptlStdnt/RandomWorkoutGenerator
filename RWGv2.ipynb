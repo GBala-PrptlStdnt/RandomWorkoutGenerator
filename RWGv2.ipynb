{
 "cells": [
  {
   "cell_type": "code",
   "execution_count": 1,
   "id": "7a225880",
   "metadata": {},
   "outputs": [],
   "source": [
    "#define random variable generator (RVG) which generates a choice from list of \"options\"\n",
    "\n",
    "#define lists of options each for cardio, UB, LB, and reps\n",
    "\n",
    "#define a function which calls RVG on each list sequentially returning a list of chosen variables \n",
    "\n",
    "#print new list of vars"
   ]
  },
  {
   "cell_type": "code",
   "execution_count": 2,
   "id": "51ce56dd",
   "metadata": {},
   "outputs": [],
   "source": [
    "import random"
   ]
  },
  {
   "cell_type": "code",
   "execution_count": 3,
   "id": "404a6aca",
   "metadata": {},
   "outputs": [],
   "source": [
    "### Define a function which uses random to generate a random choice from a list \"options\"\n",
    "\n",
    "def random_choice(option):\n",
    "    \"\"\"Generates random choice from list or variables\n",
    "    Args:\n",
    "        option: list of variables from which to chose one variable at random\n",
    "    \"\"\"\n",
    "    return random.choice(option)"
   ]
  },
  {
   "cell_type": "code",
   "execution_count": 4,
   "id": "d8dc96dc",
   "metadata": {},
   "outputs": [],
   "source": [
    "def generate_list_of_vars_from_list():\n",
    "    \"\"\"\n",
    "    Sequentially calls the random_choice() function on each list to chose one variable from\n",
    "    the list at random and saves to a new list called \"generated_variables\". \n",
    "    \n",
    "    \"\"\"\n",
    "    cardio = ['var1', 'var2', 'var3', 'var4', 'var5', 'var6',]\n",
    "    UB = ['var1', 'var2', 'var3', 'var4', 'var5', 'var6',]\n",
    "    LB = ['var1', 'var2', 'var3', 'var4', 'var5', 'var6',]\n",
    "    Reps = ['5', '10', '15', '20', '25', '30']\n",
    "    \n",
    "    generated_variables = [\n",
    "        random_choice(cardio),\n",
    "        random_choice(UB),\n",
    "        random_choice(LB),\n",
    "        random_choice(Reps),\n",
    "    ]\n",
    "    \n",
    "    return generated_variables"
   ]
  },
  {
   "cell_type": "code",
   "execution_count": 5,
   "id": "c444efba",
   "metadata": {},
   "outputs": [
    {
     "name": "stdout",
     "output_type": "stream",
     "text": [
      "['var2', 'var3', 'var4', '5']\n"
     ]
    }
   ],
   "source": [
    "results = generate_list_of_vars_from_list()\n",
    "print(results)"
   ]
  },
  {
   "cell_type": "code",
   "execution_count": null,
   "id": "aa26a808",
   "metadata": {},
   "outputs": [],
   "source": []
  }
 ],
 "metadata": {
  "kernelspec": {
   "display_name": "Python 3",
   "language": "python",
   "name": "python3"
  },
  "language_info": {
   "codemirror_mode": {
    "name": "ipython",
    "version": 3
   },
   "file_extension": ".py",
   "mimetype": "text/x-python",
   "name": "python",
   "nbconvert_exporter": "python",
   "pygments_lexer": "ipython3",
   "version": "3.8.5"
  }
 },
 "nbformat": 4,
 "nbformat_minor": 5
}
