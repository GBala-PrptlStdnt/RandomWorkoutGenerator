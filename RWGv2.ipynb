{
 "cells": [
  {
   "cell_type": "code",
   "execution_count": null,
   "id": "aacd06c4",
   "metadata": {},
   "outputs": [],
   "source": [
    "#define random variable generator (GRV) which generates a choice from list of \"options\"\n",
    "\n",
    "#define lists of options for cardio, UB, LB, and reps\n",
    "\n",
    "#define a function which calls GRV on list of lists to produce list of outcome variables \n",
    "\n",
    "#return list of vars as list of GRV on list of lists\n"
   ]
  },
  {
   "cell_type": "code",
   "execution_count": null,
   "id": "35951d91",
   "metadata": {},
   "outputs": [],
   "source": [
    "import random\n",
    "\n",
    "def generate_random_variable(options):\n",
    "    return random.choice(options)\n",
    "\n",
    "def generate_variables_list():\n",
    "    cardio_options = ['variable1', 'variable2', 'variable3', 'variable4', 'variable5', 'variable6']\n",
    "    upper_body_options = ['variable1', 'variable2', 'variable3', 'variable4', 'variable5', 'variable6']\n",
    "    lower_body_options = ['variable1', 'variable2', 'variable3', 'variable4', 'variable5', 'variable6']\n",
    "    reps_options = ['5', '10', '15', '20', '25', '30']\n",
    "\n",
    "    generated_variables = [\n",
    "        generate_random_variable(cardio_options),\n",
    "        generate_random_variable(upper_body_options),\n",
    "        generate_random_variable(lower_body_options),\n",
    "        generate_random_variable(reps_options)\n",
    "    ]\n",
    "\n",
    "    return generated_variables\n",
    "\n",
    "result_list = generate_variables_list()\n",
    "print(result_list)\n"
   ]
  }
 ],
 "metadata": {
  "kernelspec": {
   "display_name": "Python 3",
   "language": "python",
   "name": "python3"
  },
  "language_info": {
   "codemirror_mode": {
    "name": "ipython",
    "version": 3
   },
   "file_extension": ".py",
   "mimetype": "text/x-python",
   "name": "python",
   "nbconvert_exporter": "python",
   "pygments_lexer": "ipython3",
   "version": "3.8.5"
  }
 },
 "nbformat": 4,
 "nbformat_minor": 5
}
