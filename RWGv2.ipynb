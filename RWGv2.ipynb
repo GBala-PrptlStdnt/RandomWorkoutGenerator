{
 "cells": [
  {
   "cell_type": "code",
   "execution_count": null,
   "id": "fc17b4a8",
   "metadata": {},
   "outputs": [],
   "source": [
    "#define random variable generator (GRV) which generates a choice from list of \"options\"\n",
    "\n",
    "#define lists of options for cardio, UB, LB, and reps\n",
    "\n",
    "#define a function which calls GRV on list of lists to produce list of outcome variables \n",
    "\n",
    "#return list of vars as list of GRV on list of lists\n"
   ]
  }
 ],
 "metadata": {
  "kernelspec": {
   "display_name": "Python 3",
   "language": "python",
   "name": "python3"
  },
  "language_info": {
   "codemirror_mode": {
    "name": "ipython",
    "version": 3
   },
   "file_extension": ".py",
   "mimetype": "text/x-python",
   "name": "python",
   "nbconvert_exporter": "python",
   "pygments_lexer": "ipython3",
   "version": "3.8.5"
  }
 },
 "nbformat": 4,
 "nbformat_minor": 5
}
