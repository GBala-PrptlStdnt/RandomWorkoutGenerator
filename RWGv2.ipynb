{
 "cells": [
  {
   "cell_type": "code",
   "execution_count": null,
   "id": "22c8f048",
   "metadata": {},
   "outputs": [],
   "source": [
    "#define random variable generator (RVG) which generates a choice from list of \"options\"\n",
    "\n",
    "#define lists of options each for cardio, UB, LB, and reps\n",
    "\n",
    "#define a function which calls RVG on each list sequentially returning a list of chosen variables \n",
    "\n",
    "#print new list of vars"
   ]
  },
  {
   "cell_type": "code",
   "execution_count": null,
   "id": "244026fd",
   "metadata": {},
   "outputs": [],
   "source": [
    "import random"
   ]
  },
  {
   "cell_type": "code",
   "execution_count": null,
   "id": "97753452",
   "metadata": {},
   "outputs": [],
   "source": [
    "### Define a function which uses random to generate a random choice from a list \"options\"\n",
    "\n",
    "def random_choice(option):\n",
    "    \"\"\"Generates random choice from list or variables\n",
    "    Args:\n",
    "        option: list of variables from which to chose one variable at random\n",
    "    \"\"\"\n",
    "    return random.choice(options)"
   ]
  },
  {
   "cell_type": "code",
   "execution_count": null,
   "id": "e1fdb7a2",
   "metadata": {},
   "outputs": [],
   "source": [
    "def generate_list_of_vars_from_list():\n",
    "    \"\"\"\n",
    "    Calls teh random_choice() function on a defined list of variables to chose one variable from\n",
    "    the list at random and saves to a new list called generated_variables. \n",
    "    \n",
    "    \"\"\"\n",
    "    cardio = ['var1', 'var2', 'var3', 'var4', 'var5', 'var6',]\n",
    "    UB = ['var1', 'var2', 'var3', 'var4', 'var5', 'var6',]\n",
    "    LB = ['var1', 'var2', 'var3', 'var4', 'var5', 'var6',]\n",
    "    Reps = ['5', '10', '15', '20', '25', '30']\n",
    "    \n",
    "    generate_variables = [\n",
    "        random_choice(cardio)\n",
    "        random_choice(UB)\n",
    "        random_choice(LB)\n",
    "        random_choice(Reps)\n",
    "    ]\n",
    "    \n",
    "    return generated_variabels"
   ]
  },
  {
   "cell_type": "code",
   "execution_count": null,
   "id": "9ef34c0b",
   "metadata": {},
   "outputs": [],
   "source": [
    "results = generate_list_of_vars_from_list()\n",
    "print(results)"
   ]
  }
 ],
 "metadata": {
  "kernelspec": {
   "display_name": "Python 3",
   "language": "python",
   "name": "python3"
  },
  "language_info": {
   "codemirror_mode": {
    "name": "ipython",
    "version": 3
   },
   "file_extension": ".py",
   "mimetype": "text/x-python",
   "name": "python",
   "nbconvert_exporter": "python",
   "pygments_lexer": "ipython3",
   "version": "3.8.5"
  }
 },
 "nbformat": 4,
 "nbformat_minor": 5
}
