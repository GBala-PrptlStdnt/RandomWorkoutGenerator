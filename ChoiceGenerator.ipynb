{
 "cells": [
  {
   "cell_type": "code",
   "execution_count": 1,
   "metadata": {},
   "outputs": [],
   "source": [
    "import random"
   ]
  },
  {
   "cell_type": "code",
   "execution_count": 2,
   "metadata": {},
   "outputs": [],
   "source": [
    "#Cardio variable\n",
    "def GRV_1():\n",
    "    options = ['variable1', 'variable2', 'variable3', 'variable4', 'variable5', 'variable6']\n",
    "    return random.choice(options)"
   ]
  },
  {
   "cell_type": "code",
   "execution_count": 3,
   "metadata": {},
   "outputs": [],
   "source": [
    "#Upper Body variable\n",
    "def GRV_2():\n",
    "    options = ['variable1', 'variable2', 'variable3', 'variable4', 'variable5', 'variable6']\n",
    "    return random.choice(options)"
   ]
  },
  {
   "cell_type": "code",
   "execution_count": 4,
   "metadata": {},
   "outputs": [],
   "source": [
    "#Lower Body variable\n",
    "def GRV_3():\n",
    "    options = ['variable1', 'variable2', 'variable3', 'variable4', 'variable5', 'variable6']\n",
    "    return random.choice(options)"
   ]
  },
  {
   "cell_type": "code",
   "execution_count": 5,
   "metadata": {},
   "outputs": [],
   "source": [
    "#Reps variable\n",
    "def GRV_4():\n",
    "    options = ['5', '10', '15', '20', '25', '30']\n",
    "    return random.choice(options)"
   ]
  },
  {
   "cell_type": "code",
   "execution_count": 6,
   "metadata": {},
   "outputs": [],
   "source": [
    "def generate_variabels_list():\n",
    "    function_list = [GRV_1, GRV_2, GRV_3, GRV_4]\n",
    "    generated_variables = []\n",
    "\n",
    "    for func in function_list:\n",
    "        generated_variable = func()\n",
    "        generated_variables.append(generated_variable)\n",
    "    \n",
    "    return generated_variables"
   ]
  },
  {
   "cell_type": "code",
   "execution_count": 9,
   "metadata": {},
   "outputs": [
    {
     "name": "stdout",
     "output_type": "stream",
     "text": [
      "['variable5', 'variable1', 'variable6', '20']\n"
     ]
    }
   ],
   "source": [
    "result_list = generate_variabels_list()\n",
    "print(result_list)"
   ]
  }
 ],
 "metadata": {
  "kernelspec": {
   "display_name": "Python 3",
   "language": "python",
   "name": "python3"
  },
  "language_info": {
   "codemirror_mode": {
    "name": "ipython",
    "version": 3
   },
   "file_extension": ".py",
   "mimetype": "text/x-python",
   "name": "python",
   "nbconvert_exporter": "python",
   "pygments_lexer": "ipython3",
   "version": "3.8.5"
  }
 },
 "nbformat": 4,
 "nbformat_minor": 4
}
